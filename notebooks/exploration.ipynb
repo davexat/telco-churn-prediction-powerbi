{
 "cells": [
  {
   "metadata": {
    "ExecuteTime": {
     "end_time": "2025-08-02T22:07:11.847644Z",
     "start_time": "2025-08-02T22:07:11.842078Z"
    }
   },
   "cell_type": "code",
   "source": "print(\"Hello World\")",
   "id": "2fb8d2fc8f6d43f7",
   "outputs": [
    {
     "name": "stdout",
     "output_type": "stream",
     "text": [
      "Hello World\n"
     ]
    }
   ],
   "execution_count": 1
  }
 ],
 "metadata": {},
 "nbformat": 4,
 "nbformat_minor": 5
}
